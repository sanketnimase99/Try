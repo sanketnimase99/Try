{
 "cells": [
  {
   "cell_type": "markdown",
   "metadata": {},
   "source": [
    "#### Program no 1"
   ]
  },
  {
   "cell_type": "code",
   "execution_count": 2,
   "metadata": {},
   "outputs": [
    {
     "name": "stdout",
     "output_type": "stream",
     "text": [
      "Enter First Name : Sanket\n",
      "Enter Last Name : Nimase\n",
      "Nimase Sanket\n"
     ]
    }
   ],
   "source": [
    "fname = input('Enter First Name : ')\n",
    "lname = input('Enter Last Name : ')\n",
    "print(lname+' '+fname)"
   ]
  },
  {
   "cell_type": "markdown",
   "metadata": {},
   "source": [
    "#### Program no 2\n"
   ]
  },
  {
   "cell_type": "code",
   "execution_count": 7,
   "metadata": {},
   "outputs": [
    {
     "name": "stdout",
     "output_type": "stream",
     "text": [
      "Enter the color no : 3\n",
      "Yellow\n"
     ]
    }
   ],
   "source": [
    "shades = ['Red', 'Orange', 'Yellow', 'Green', 'Blue', 'Indigo', 'Violet']\n",
    "color_no = int(input('Enter the color no : '))\n",
    "print(shades[color_no - 1])"
   ]
  },
  {
   "cell_type": "markdown",
   "metadata": {},
   "source": [
    "#### Program no 3"
   ]
  },
  {
   "cell_type": "code",
   "execution_count": 12,
   "metadata": {},
   "outputs": [
    {
     "name": "stdout",
     "output_type": "stream",
     "text": [
      "Enter the number : 2\n",
      "Number is Even\n"
     ]
    }
   ],
   "source": [
    "number = int(input('Enter the number : '))\n",
    "print(\"Number is Even\") if number % 2 == 0 else print(\"Number is Odd\")"
   ]
  },
  {
   "cell_type": "markdown",
   "metadata": {},
   "source": [
    "#### Program no 4"
   ]
  },
  {
   "cell_type": "code",
   "execution_count": 13,
   "metadata": {},
   "outputs": [
    {
     "name": "stdout",
     "output_type": "stream",
     "text": [
      "Enter the letter : a\n",
      "It is a vowel\n"
     ]
    }
   ],
   "source": [
    "vowel = ['a', 'e', 'i', 'o', 'u', 'A', 'E', 'I', 'O', 'U']\n",
    "letter = input('Enter the letter : ')\n",
    "if letter in vowel:\n",
    "    print('It is a vowel')\n",
    "else:\n",
    "    print('It is not vowel')"
   ]
  },
  {
   "cell_type": "markdown",
   "metadata": {},
   "source": [
    "#### Program no 5"
   ]
  },
  {
   "cell_type": "code",
   "execution_count": 15,
   "metadata": {},
   "outputs": [
    {
     "name": "stdout",
     "output_type": "stream",
     "text": [
      "Enter the Year : 2020\n",
      "Enter the Month : 9\n",
      "   September 2020\n",
      "Su Mo Tu We Th Fr Sa\n",
      "       1  2  3  4  5\n",
      " 6  7  8  9 10 11 12\n",
      "13 14 15 16 17 18 19\n",
      "20 21 22 23 24 25 26\n",
      "27 28 29 30\n",
      "\n"
     ]
    }
   ],
   "source": [
    "import calendar\n",
    "c = calendar.TextCalendar(calendar.SUNDAY)\n",
    "year = int(input('Enter the Year : '))\n",
    "month = int(input('Enter the Month : '))\n",
    "str = c.formatmonth(year, month)\n",
    "print(str)"
   ]
  },
  {
   "cell_type": "markdown",
   "metadata": {},
   "source": [
    "#### Program no 6"
   ]
  },
  {
   "cell_type": "code",
   "execution_count": 24,
   "metadata": {},
   "outputs": [
    {
     "name": "stdout",
     "output_type": "stream",
     "text": [
      "Enter the number : 4\n",
      "492\n"
     ]
    }
   ],
   "source": [
    "no = int(input('Enter the number : '))\n",
    "addition = no + (no * 11) + (no * 111)\n",
    "print(addition)"
   ]
  },
  {
   "cell_type": "markdown",
   "metadata": {},
   "source": [
    "#### Program no 7"
   ]
  },
  {
   "cell_type": "code",
   "execution_count": 3,
   "metadata": {},
   "outputs": [
    {
     "name": "stdout",
     "output_type": "stream",
     "text": [
      "Enter the radius : 0\n"
     ]
    }
   ],
   "source": [
    "try:\n",
    "    radius = float(input('Enter the radius : '))\n",
    "    if not(radius <= 0):\n",
    "        area = 3.14 * radius *radius\n",
    "        print(area)\n",
    "except:\n",
    "    print('something went wrong')"
   ]
  },
  {
   "cell_type": "markdown",
   "metadata": {},
   "source": [
    "####  Program no 8"
   ]
  },
  {
   "cell_type": "code",
   "execution_count": 8,
   "metadata": {},
   "outputs": [
    {
     "name": "stdout",
     "output_type": "stream",
     "text": [
      "Enter first number : 5\n",
      "Enter second number : 10\n",
      "True\n"
     ]
    }
   ],
   "source": [
    "no1 = int(input('Enter first number : '))\n",
    "no2 = int(input('Enter second number : '))\n",
    "if no1 == no2 or no1 - no2 == 5 or no1 + no2 == 5 or no2 - no1 == 5:\n",
    "    print('True')\n",
    "else:\n",
    "    print('False')\n",
    "    "
   ]
  },
  {
   "cell_type": "markdown",
   "metadata": {},
   "source": [
    "#### Program no 9"
   ]
  },
  {
   "cell_type": "code",
   "execution_count": 14,
   "metadata": {},
   "outputs": [
    {
     "name": "stdout",
     "output_type": "stream",
     "text": [
      "Enter Principal : 8\n",
      "Enter Rate : 8\n",
      "Enter time : 6\n",
      "Amount = \n",
      "11.84\n",
      "Simple Intrest = \n",
      "3.84\n"
     ]
    }
   ],
   "source": [
    "principal = int(input('Enter Principal : ')) \n",
    "rate = float(input('Enter Rate : '))\n",
    "time = int(input('Enter time : '))\n",
    "si = (principal * rate * time) / 100\n",
    "print('Amount = ')\n",
    "print(si+principal)\n",
    "print('Simple Intrest = ')\n",
    "print(si)"
   ]
  },
  {
   "cell_type": "markdown",
   "metadata": {},
   "source": [
    "####  Program no 10"
   ]
  },
  {
   "cell_type": "code",
   "execution_count": 21,
   "metadata": {},
   "outputs": [
    {
     "name": "stdout",
     "output_type": "stream",
     "text": [
      "Enter the string : w\n",
      "Empty String\n"
     ]
    }
   ],
   "source": [
    "str1 = input('Enter the string : ')\n",
    "a = len(str1)\n",
    "if a <= 1:\n",
    "    print('Empty String')\n",
    "else:\n",
    "    print(str1[0]+str1[1]+str1[a-2]+str1[a-1])"
   ]
  },
  {
   "cell_type": "code",
   "execution_count": null,
   "metadata": {},
   "outputs": [],
   "source": []
  }
 ],
 "metadata": {
  "kernelspec": {
   "display_name": "Python 3",
   "language": "python",
   "name": "python3"
  },
  "language_info": {
   "codemirror_mode": {
    "name": "ipython",
    "version": 3
   },
   "file_extension": ".py",
   "mimetype": "text/x-python",
   "name": "python",
   "nbconvert_exporter": "python",
   "pygments_lexer": "ipython3",
   "version": "3.8.1rc1"
  }
 },
 "nbformat": 4,
 "nbformat_minor": 4
}
